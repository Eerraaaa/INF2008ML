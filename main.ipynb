{
 "cells": [
  {
   "cell_type": "markdown",
   "metadata": {},
   "source": [
    "Project : Image Classification\n",
    "\n",
    "Things to submit:\n",
    "1. PPT\n",
    "2. Video\n",
    "\n",
    "**Problem Statement** : Enhancing Handwritten Digit Recognition for Practical Applications\n",
    "\n",
    "**Background:**\n",
    "\n",
    "Handwriting recognition plays a crucial role in modern automation systems, enabling seamless digitization of handwritten content for applications such as postal services, banking, and education. Despite the advancements in machine learning, accurately identifying handwritten characters remains a challenge due to variations in writing styles, distortions, and inconsistencies in user inputs.\n",
    "\n",
    "This project aims to develop a robust image classification model that accurately recognizes handwritten digits using machine learning techniques. Leveraging publicly available datasets, such as the MNIST dataset, we will preprocess and analyze data to extract meaningful features, compare multiple machine learning algorithms, and evaluate their performance using accuracy and computational efficiency metrics.\n",
    "\n",
    "Our objective is to enhance recognition accuracy while maintaining computational efficiency, making the model practical for real-world deployment. This study will not only provide insights into machine learning-based classification but also serve as a foundation for future advancements in handwritten text recognition technologies.\n"
   ]
  },
  {
   "cell_type": "markdown",
   "metadata": {},
   "source": [
    "**LIBRARY & DATASET**"
   ]
  },
  {
   "cell_type": "code",
   "execution_count": 1,
   "metadata": {},
   "outputs": [],
   "source": [
    "# Install the required packages if you do not have\n",
    "# pip install seaborn\n",
    "# pip install scikit-learn\n",
    "# pip install scikit-image"
   ]
  },
  {
   "cell_type": "code",
   "execution_count": 25,
   "metadata": {},
   "outputs": [],
   "source": [
    "# Import Required Libraries\n",
    "import numpy as np\n",
    "import matplotlib.pyplot as plt\n",
    "import seaborn as sns\n",
    "import pandas as pd\n",
    "import time\n",
    "\n",
    "from sklearn.datasets import fetch_openml\n",
    "from sklearn.model_selection import train_test_split, GridSearchCV, RandomizedSearchCV\n",
    "from sklearn.preprocessing import StandardScaler\n",
    "from sklearn.neighbors import KNeighborsClassifier\n",
    "from sklearn.tree import DecisionTreeClassifier, plot_tree\n",
    "from sklearn.metrics import accuracy_score, classification_report, confusion_matrix, precision_score, recall_score, f1_score\n",
    "from sklearn.cluster import KMeans\n",
    "from sklearn.feature_selection import RFE\n",
    "from sklearn.linear_model import Perceptron  # Simple linear model for RFE"
   ]
  },
  {
   "cell_type": "markdown",
   "metadata": {},
   "source": [
    "MNIST dataset from Kaggle\n",
    "\n",
    "The MNIST database is a large database of handwritten digits that is commonly used for training various image processing systems.\n",
    "\n",
    "This is a dataset of 60,000 28x28 grayscale images of the 10 digits, along with a test set of 10,000 images."
   ]
  },
  {
   "cell_type": "code",
   "execution_count": 3,
   "metadata": {},
   "outputs": [],
   "source": [
    "# Fetching the MNIST dataset\n",
    "X, y = fetch_openml('mnist_784', version=1, return_X_y = True)"
   ]
  },
  {
   "cell_type": "markdown",
   "metadata": {},
   "source": [
    "**DATA PREPROCESSING**"
   ]
  },
  {
   "cell_type": "code",
   "execution_count": 4,
   "metadata": {},
   "outputs": [
    {
     "name": "stdout",
     "output_type": "stream",
     "text": [
      "Dataset shape: (70000, 784)\n",
      "Column names: 784 pixel features (pixel0 to pixel783)\n",
      "Total missing values: 0\n",
      "Basic statistics of pixel values:\n",
      "        pixel1   pixel2   pixel3   pixel4   pixel5   pixel6   pixel7   pixel8  \\\n",
      "count  70000.0  70000.0  70000.0  70000.0  70000.0  70000.0  70000.0  70000.0   \n",
      "mean       0.0      0.0      0.0      0.0      0.0      0.0      0.0      0.0   \n",
      "std        0.0      0.0      0.0      0.0      0.0      0.0      0.0      0.0   \n",
      "min        0.0      0.0      0.0      0.0      0.0      0.0      0.0      0.0   \n",
      "25%        0.0      0.0      0.0      0.0      0.0      0.0      0.0      0.0   \n",
      "50%        0.0      0.0      0.0      0.0      0.0      0.0      0.0      0.0   \n",
      "75%        0.0      0.0      0.0      0.0      0.0      0.0      0.0      0.0   \n",
      "max        0.0      0.0      0.0      0.0      0.0      0.0      0.0      0.0   \n",
      "\n",
      "        pixel9  pixel10  ...      pixel775      pixel776      pixel777  \\\n",
      "count  70000.0  70000.0  ...  70000.000000  70000.000000  70000.000000   \n",
      "mean       0.0      0.0  ...      0.197414      0.099543      0.046629   \n",
      "std        0.0      0.0  ...      5.991206      4.256304      2.783732   \n",
      "min        0.0      0.0  ...      0.000000      0.000000      0.000000   \n",
      "25%        0.0      0.0  ...      0.000000      0.000000      0.000000   \n",
      "50%        0.0      0.0  ...      0.000000      0.000000      0.000000   \n",
      "75%        0.0      0.0  ...      0.000000      0.000000      0.000000   \n",
      "max        0.0      0.0  ...    254.000000    254.000000    253.000000   \n",
      "\n",
      "           pixel778      pixel779      pixel780  pixel781  pixel782  pixel783  \\\n",
      "count  70000.000000  70000.000000  70000.000000   70000.0   70000.0   70000.0   \n",
      "mean       0.016614      0.012957      0.001714       0.0       0.0       0.0   \n",
      "std        1.561822      1.553796      0.320889       0.0       0.0       0.0   \n",
      "min        0.000000      0.000000      0.000000       0.0       0.0       0.0   \n",
      "25%        0.000000      0.000000      0.000000       0.0       0.0       0.0   \n",
      "50%        0.000000      0.000000      0.000000       0.0       0.0       0.0   \n",
      "75%        0.000000      0.000000      0.000000       0.0       0.0       0.0   \n",
      "max      253.000000    254.000000     62.000000       0.0       0.0       0.0   \n",
      "\n",
      "       pixel784  \n",
      "count   70000.0  \n",
      "mean        0.0  \n",
      "std         0.0  \n",
      "min         0.0  \n",
      "25%         0.0  \n",
      "50%         0.0  \n",
      "75%         0.0  \n",
      "max         0.0  \n",
      "\n",
      "[8 rows x 784 columns]\n"
     ]
    }
   ],
   "source": [
    "# Convert target labels to integers\n",
    "y = y.astype(np.uint8)\n",
    "\n",
    "# Show dataset shape\n",
    "print(f\"Dataset shape: {X.shape}\")  # Rows (samples) x Columns (features)\n",
    "\n",
    "# Display column names\n",
    "print(f\"Column names: {X.shape[1]} pixel features (pixel0 to pixel783)\")\n",
    "\n",
    "# Check for missing values\n",
    "missing_values = np.sum(pd.DataFrame(X).isnull().sum())\n",
    "print(f\"Total missing values: {missing_values}\")\n",
    "\n",
    "# Basic statistics\n",
    "df = pd.DataFrame(X)\n",
    "print(\"Basic statistics of pixel values:\")\n",
    "print(df.describe())"
   ]
  },
  {
   "cell_type": "code",
   "execution_count": 5,
   "metadata": {},
   "outputs": [
    {
     "data": {
      "image/png": "[encoded data removed]",
      "text/plain": [
       "<Figure size 640x480 with 1 Axes>"
      ]
     },
     "metadata": {},
     "output_type": "display_data"
    }
   ],
   "source": [
    "# Display & Visualise class distribution\n",
    "sns.countplot(x=y, hue=y, palette=\"Set2\", legend=False)\n",
    "plt.title(\"Distribution of Digits in MNIST Dataset\")\n",
    "plt.xlabel(\"Digit\")\n",
    "plt.ylabel(\"Frequency\")\n",
    "plt.show()"
   ]
  },
  {
   "cell_type": "code",
   "execution_count": 6,
   "metadata": {},
   "outputs": [
    {
     "data": {
      "image/png": "[encoded data removed]",
      "text/plain": [
       "<Figure size 1000x500 with 10 Axes>"
      ]
     },
     "metadata": {},
     "output_type": "display_data"
    }
   ],
   "source": [
    "#Display Sample Handwritten Digits\n",
    "\n",
    "# Ensure X is a NumPy array\n",
    "X_array = np.array(X)\n",
    "# Display some example images from the dataset\n",
    "fig, axes = plt.subplots(2, 5, figsize=(10, 5))\n",
    "for i, ax in enumerate(axes.flat):\n",
    "    ax.imshow(X_array[i].reshape(28, 28), cmap='gray')\n",
    "    ax.set_title(f\"Label: {y[i]}\")\n",
    "    ax.axis(\"off\")\n",
    "plt.show()"
   ]
  },
  {
   "cell_type": "markdown",
   "metadata": {},
   "source": [
    "**DATA PREPARATION**"
   ]
  },
  {
   "cell_type": "markdown",
   "metadata": {},
   "source": [
    "Standardization Method - k-NN, SVMs\n",
    "Better for algorithms relying on distance between data point\n",
    "When calculating Standard Deviation, you use the mean of pixel values, which is different for every image, which results in different SD values"
   ]
  },
  {
   "cell_type": "code",
   "execution_count": 7,
   "metadata": {},
   "outputs": [],
   "source": [
    "scaler = StandardScaler()\n",
    "X_prepared = scaler.fit_transform(X)"
   ]
  },
  {
   "cell_type": "code",
   "execution_count": 8,
   "metadata": {},
   "outputs": [
    {
     "name": "stdout",
     "output_type": "stream",
     "text": [
      "Training data shape: (56000, 784)\n",
      "Test data shape: (14000, 784)\n",
      "Training labels shape: (56000,)\n",
      "Test labels shape: (14000,)\n"
     ]
    }
   ],
   "source": [
    "# Spliting dataset into training (80) & testing (20) sets\n",
    "# Explain why this split #TODO\n",
    "\n",
    "X_train, X_test, y_train, y_test = train_test_split(X_prepared, y, test_size=0.2, random_state=42)\n",
    "\n",
    "# Display the shapes of the datasets\n",
    "print(f\"Training data shape: {X_train.shape}\")\n",
    "print(f\"Test data shape: {X_test.shape}\")\n",
    "print(f\"Training labels shape: {y_train.shape}\")\n",
    "print(f\"Test labels shape: {y_test.shape}\")"
   ]
  },
  {
   "cell_type": "markdown",
   "metadata": {},
   "source": [
    "**FEATURE EXTRACTION for the MNIST Dataset**"
   ]
  },
  {
   "cell_type": "markdown",
   "metadata": {},
   "source": [
    "Feature extraction helps reduce dimensionality, highlight important patterns, and improve model performance. Below are different feature extraction techniques applicable to MNIST:\n",
    "\n",
    "**1. Raw Pixel Features (Baseline)**\n",
    "\n",
    "The MNIST dataset consists of 28×28 grayscale images, each represented as 784 pixel intensity values. This raw format is commonly used for training deep learning models, but for traditional machine learning models like Decision Trees, KNN, or SVM, extracting informative features can improve efficiency.\n",
    "\n",
    "✔ Advantage: Retains full information\n",
    "\n",
    "✘ Disadvantage: High dimensionality (784 features) leads to slow training for some models\n",
    "\n",
    "**2. Principal Component Analysis (PCA)**\n",
    "\n",
    "PCA is a dimensionality reduction technique that extracts the most important features by transforming the data into a lower-dimensional space.\n",
    "\n",
    "✔ Advantage: Reduces dimensionality while preserving most variance\n",
    "\n",
    "✘ Disadvantage: Some information is lost\n",
    "\n",
    "**3. Histogram of Oriented Gradients (HOG)**\n",
    "\n",
    "HOG extracts gradient and edge direction features, which are more effective than raw pixel intensities.\n",
    "\n",
    "✔ Advantage: Extracts meaningful texture and shape information\n",
    "\n",
    "✘ Disadvantage: Can be computationally expensive\n",
    "\n",
    "**4. Zoning Features (Statistical Features)**\n",
    "\n",
    "Zoning divides the image into regions and computes statistical properties (mean, variance) for each.\n",
    "\n",
    "✔ Advantage: Simple and computationally efficient\n",
    "\n",
    "✘ Disadvantage: May lose fine-grained pixel information\n",
    "\n",
    "**5. Fourier Transform Features (Frequency Domain)**\n",
    "\n",
    "Fourier Transform converts images into the frequency domain, capturing shape patterns.\n",
    "\n",
    "✔ Advantage: Captures global shape information\n",
    "\n",
    "✘ Disadvantage: Computationally expensive\n",
    "\n",
    "**6. Combining Features for Improved Performance**\n",
    "\n",
    "We can combine multiple features into a single feature set.\n",
    "\n",
    "✔ Advantage: Combines spatial, statistical, and texture-based features\n",
    "\n",
    "✘ Disadvantage: Higher computation cost"
   ]
  },
  {
   "cell_type": "code",
   "execution_count": 10,
   "metadata": {},
   "outputs": [
    {
     "name": "stdout",
     "output_type": "stream",
     "text": [
      "Train shape: (56000, 784), Test shape: (14000, 784)\n"
     ]
    }
   ],
   "source": [
    "# Reshape into flattened 1D features\n",
    "X_train_flat = X_train.reshape(X_train.shape[0], -1)\n",
    "X_test_flat = X_test.reshape(X_test.shape[0], -1)\n",
    "\n",
    "print(f\"Train shape: {X_train_flat.shape}, Test shape: {X_test_flat.shape}\")"
   ]
  },
  {
   "cell_type": "code",
   "execution_count": 11,
   "metadata": {},
   "outputs": [
    {
     "name": "stdout",
     "output_type": "stream",
     "text": [
      "Original shape: (56000, 784), PCA reduced shape: (56000, 50)\n"
     ]
    }
   ],
   "source": [
    "from sklearn.decomposition import PCA\n",
    "\n",
    "# Reduce dimensionality to 50 principal components\n",
    "pca = PCA(n_components=50)\n",
    "X_train_pca = pca.fit_transform(X_train_flat)\n",
    "X_test_pca = pca.transform(X_test_flat)\n",
    "\n",
    "print(f\"Original shape: {X_train_flat.shape}, PCA reduced shape: {X_train_pca.shape}\")"
   ]
  },
  {
   "cell_type": "code",
   "execution_count": 12,
   "metadata": {},
   "outputs": [
    {
     "name": "stdout",
     "output_type": "stream",
     "text": [
      "HOG feature shape: (56000, 144)\n"
     ]
    }
   ],
   "source": [
    "# pip install scikit-image\n",
    "from skimage.feature import hog\n",
    "\n",
    "# Function to compute HOG features for MNIST images\n",
    "def compute_hog_features(images):\n",
    "    hog_features = []\n",
    "    for img in images:\n",
    "        img = img.reshape(28, 28)  # Reshape to 2D\n",
    "        features = hog(img, orientations=9, pixels_per_cell=(8, 8), cells_per_block=(2, 2))\n",
    "        hog_features.append(features)\n",
    "    return np.array(hog_features)\n",
    "\n",
    "# Compute HOG features for training and testing sets\n",
    "X_train_hog = compute_hog_features(X_train_flat)\n",
    "X_test_hog = compute_hog_features(X_test_flat)\n",
    "\n",
    "print(f\"HOG feature shape: {X_train_hog.shape}\")"
   ]
  },
  {
   "cell_type": "code",
   "execution_count": 29,
   "metadata": {},
   "outputs": [
    {
     "name": "stdout",
     "output_type": "stream",
     "text": [
      "Zoning feature shape: (56000, 32)\n"
     ]
    }
   ],
   "source": [
    "def extract_zoning_features(images, zones=(4, 4)):\n",
    "    num_zones = zones[0] * zones[1]\n",
    "    zoning_features = []\n",
    "    \n",
    "    for img in images:\n",
    "        img = img.reshape(28, 28)\n",
    "        zone_h, zone_w = 28 // zones[0], 28 // zones[1]\n",
    "        features = []\n",
    "        \n",
    "        for i in range(zones[0]):\n",
    "            for j in range(zones[1]):\n",
    "                zone = img[i * zone_h:(i + 1) * zone_h, j * zone_w:(j + 1) * zone_w]\n",
    "                features.append(np.mean(zone))  # Mean intensity\n",
    "                features.append(np.std(zone))   # Standard deviation\n",
    "        \n",
    "        zoning_features.append(features)\n",
    "    \n",
    "    return np.array(zoning_features)\n",
    "\n",
    "# Extract zoning features\n",
    "X_train_zoning = extract_zoning_features(X_train_flat)\n",
    "X_test_zoning = extract_zoning_features(X_test_flat)\n",
    "\n",
    "print(f\"Zoning feature shape: {X_train_zoning.shape}\")"
   ]
  },
  {
   "cell_type": "code",
   "execution_count": 14,
   "metadata": {},
   "outputs": [
    {
     "name": "stdout",
     "output_type": "stream",
     "text": [
      "Fourier feature shape: (56000, 100)\n"
     ]
    }
   ],
   "source": [
    "def compute_fourier_features(images):\n",
    "    fourier_features = []\n",
    "    for img in images:\n",
    "        img = img.reshape(28, 28)\n",
    "        f_transform = np.fft.fft2(img)  # Compute Fourier Transform\n",
    "        f_features = np.abs(f_transform).flatten()[:100]  # Take first 100 frequencies\n",
    "        fourier_features.append(f_features)\n",
    "    \n",
    "    return np.array(fourier_features)\n",
    "\n",
    "# Extract Fourier features\n",
    "X_train_fourier = compute_fourier_features(X_train_flat)\n",
    "X_test_fourier = compute_fourier_features(X_test_flat)\n",
    "\n",
    "print(f\"Fourier feature shape: {X_train_fourier.shape}\")"
   ]
  },
  {
   "cell_type": "code",
   "execution_count": 19,
   "metadata": {},
   "outputs": [
    {
     "name": "stdout",
     "output_type": "stream",
     "text": [
      "Final feature shape: (56000, 226)\n"
     ]
    }
   ],
   "source": [
    "# Concatenate PCA + HOG + Zoning features\n",
    "from sklearn.preprocessing import StandardScaler\n",
    "\n",
    "X_train_combination = np.hstack([X_train_pca, X_train_hog, X_train_zoning])\n",
    "X_test_combination = np.hstack([X_test_pca, X_test_hog, X_test_zoning])\n",
    "\n",
    "# Normalize feature values\n",
    "scaler = StandardScaler()\n",
    "X_train_combined = scaler.fit_transform(X_train_combination)\n",
    "X_test_combined = scaler.transform(X_test_combination)\n",
    "\n",
    "print(f\"Final feature shape: {X_train_combined.shape}\")"
   ]
  },
  {
   "cell_type": "markdown",
   "metadata": {},
   "source": [
    "**FEATURE SELECTION**<br>\n",
    "Recursive Feature Elimination (RFE): Iteratively removes less important features while training a model."
   ]
  },
  {
   "cell_type": "code",
   "execution_count": 20,
   "metadata": {},
   "outputs": [
    {
     "name": "stdout",
     "output_type": "stream",
     "text": [
      "Applying RFE for PCA...\n",
      "Applying RFE for HOG...\n",
      "Applying RFE for Zoning...\n",
      "Applying RFE for Fourier...\n",
      "Applying RFE for Combination...\n",
      "\n",
      "RFE Feature Selection Results:\n",
      "             Selected Features\n",
      "PCA                         50\n",
      "HOG                         50\n",
      "Zoning                      32\n",
      "Fourier                     50\n",
      "Combination                 50\n"
     ]
    }
   ],
   "source": [
    "feature_sets = {\n",
    "    \"PCA\": X_train_pca,\n",
    "    \"HOG\": X_train_hog,\n",
    "    \"Zoning\": X_train_zoning,\n",
    "    \"Fourier\": X_train_fourier,\n",
    "    \"Combination\": X_train_combined\n",
    "}\n",
    "\n",
    "# Use Perceptron (a simple linear classifier) for RFE\n",
    "simple_model = Perceptron(max_iter=1000, tol=1e-3)\n",
    "\n",
    "# Define number of features to select\n",
    "num_features_to_select = 50\n",
    "\n",
    "# Store RFE results\n",
    "rfe_results = {}\n",
    "\n",
    "for feature_name, X_feat in feature_sets.items():\n",
    "    print(f\"Applying RFE for {feature_name}...\")\n",
    "\n",
    "    # Reduce dataset size for speed\n",
    "    X_train_feat, _, y_train_feat, _ = train_test_split(X_feat, y_train, train_size=500, random_state=42)\n",
    "\n",
    "    # Apply RFE\n",
    "    selector = RFE(simple_model, n_features_to_select=min(num_features_to_select, X_train_feat.shape[1]), step=10)\n",
    "    selector.fit(X_train_feat, y_train_feat)\n",
    "\n",
    "    # Store results\n",
    "    rfe_results[feature_name] = {\n",
    "        \"Selected Features\": np.sum(selector.support_),\n",
    "        \"Feature Mask\": selector.support_\n",
    "    }\n",
    "\n",
    "# Convert results to DataFrame for easy visualization\n",
    "df_rfe_results = pd.DataFrame({\n",
    "    feature: {\"Selected Features\": data[\"Selected Features\"]}\n",
    "    for feature, data in rfe_results.items()\n",
    "}).T\n",
    "\n",
    "# Display the RFE results\n",
    "print(\"\\nRFE Feature Selection Results:\")\n",
    "print(df_rfe_results)"
   ]
  },
  {
   "cell_type": "markdown",
   "metadata": {},
   "source": [
    "**Best Feature Set for Each Algorithm**\n",
    "SVM\n",
    "✅ Use PCA or HOG\n",
    "* SVM performs better in lower dimensions.\n",
    "* PCA removes redundancy, reducing unnecessary data.\n",
    "* HOG captures edge structures, helping classification.\n",
    "\n",
    "Random Forest\n",
    "✅ Use Combination (PCA + HOG + Zoning)\n",
    "* Handles high-dimensional data well.\n",
    "* Combination features retain informative patterns.\n",
    "\n",
    "KNN\n",
    "✅ Use Zoning or HOG\n",
    "* KNN relies on distance-based comparisons.\n",
    "* Zoning and HOG reduce dimensions while keeping useful features.\n",
    "\n",
    "Decision Tree\n",
    "✅ Use Combination (PCA + HOG + Zoning)\n",
    "* Works well with full feature sets.\n",
    "* Combination features balance feature selection and model interpretability.\n",
    "\n",
    "Logistic Regression\n",
    "✅ Use PCA\n",
    "* Performs best in lower-dimensional space.\n",
    "* PCA removes noise and keeps important variance."
   ]
  },
  {
   "cell_type": "markdown",
   "metadata": {},
   "source": [
    "**ALGORITHMS** (Using Pixel)"
   ]
  },
  {
   "cell_type": "markdown",
   "metadata": {},
   "source": [
    "Algo 1 : SVM Support Vector Machine (Bernice Goo)"
   ]
  },
  {
   "cell_type": "code",
   "execution_count": null,
   "metadata": {},
   "outputs": [],
   "source": [
    "import time\n",
    "from sklearn.svm import SVC\n",
    "\n",
    "# Define parameters for SVM\n",
    "param_grid = {\n",
    "    'C': [0.1, 1.0, 10.0],\n",
    "    'kernel': ['linear', 'rbf', 'poly']\n",
    "}\n",
    "\n",
    "# Take a subset for initial testing due to computational constraints\n",
    "n_samples = 5000  # Adjust based on your computational resources\n",
    "X_train_small = X_train[:n_samples]\n",
    "y_train_small = y_train[:n_samples]\n",
    "\n",
    "# Initialize SVM model\n",
    "svm = SVC(random_state=42)\n",
    "\n",
    "# Use GridSearchCV to find the best hyperparameters\n",
    "print(\"Finding best hyperparameters using Grid Search...\")\n",
    "grid_search = GridSearchCV(svm, param_grid, cv=3, n_jobs=-1, verbose=1)\n",
    "\n",
    "# Start time for training grid search\n",
    "start_time = time.time()\n",
    "grid_search.fit(X_train_small, y_train_small)\n",
    "grid_search_time = time.time() - start_time\n",
    "\n",
    "# Best hyperparameters\n",
    "best_params = grid_search.best_params_\n",
    "print(f\"Best Parameters: {best_params}\")\n",
    "\n",
    "# Train the best SVM model on the full dataset\n",
    "best_svm = SVC(C=best_params['C'], kernel=best_params['kernel'], random_state=42)\n",
    "\n",
    "# Start time for training\n",
    "print(\"Training the best SVM model on full dataset...\")\n",
    "start_time = time.time()\n",
    "best_svm.fit(X_train, y_train)\n",
    "training_time = time.time() - start_time\n",
    "\n",
    "# Start time for prediction\n",
    "start_time = time.time()\n",
    "y_pred = best_svm.predict(X_test)\n",
    "prediction_time = time.time() - start_time\n",
    "\n",
    "# Evaluate the model\n",
    "accuracy = accuracy_score(y_test, y_pred)\n",
    "conf_matrix = confusion_matrix(y_test, y_pred)\n",
    "classification_rep = classification_report(y_test, y_pred, output_dict=True)\n",
    "\n",
    "# Extracting precision, recall, and F1-score (averaged)\n",
    "precision = classification_rep[\"weighted avg\"][\"precision\"]\n",
    "recall = classification_rep[\"weighted avg\"][\"recall\"]\n",
    "f1 = classification_rep[\"weighted avg\"][\"f1-score\"]\n",
    "\n",
    "# Model complexity is related to number of support vectors and kernel type\n",
    "model_complexity = len(best_svm.support_vectors_)\n",
    "\n",
    "# Print evaluation metrics\n",
    "print(\"\\nSVM Model Evaluation:\")\n",
    "print(f\"Accuracy: {accuracy * 100:.2f}%\")\n",
    "print(f\"Precision: {precision * 100:.2f}%\")\n",
    "print(f\"Recall: {recall * 100:.2f}%\")\n",
    "print(f\"F1-score: {f1 * 100:.2f}%\")\n",
    "print(f\"Training Time: {training_time:.4f} seconds\")\n",
    "print(f\"Prediction Time: {prediction_time:.4f} seconds\")\n",
    "print(f\"Model Complexity (Number of Support Vectors): {model_complexity}\")\n",
    "print(f\"Kernel Type: {best_params['kernel']}\")\n",
    "print(f\"C Value: {best_params['C']}\")\n",
    "\n",
    "# Display classification report\n",
    "print(\"\\nDetailed Classification Report:\")\n",
    "print(classification_report(y_test, y_pred))\n",
    "\n",
    "# Display confusion matrix\n",
    "plt.figure(figsize=(10, 8))\n",
    "sns.heatmap(conf_matrix, annot=True, fmt=\"d\", cmap=\"Blues\", \n",
    "            xticklabels=range(10), yticklabels=range(10))\n",
    "plt.xlabel(\"Predicted\")\n",
    "plt.ylabel(\"Actual\")\n",
    "plt.title(\"Confusion Matrix for SVM\")\n",
    "plt.show()\n",
    "\n",
    "# Visualization of SVM performance by kernel and C value\n",
    "results = []\n",
    "for kernel in param_grid['kernel']:\n",
    "    for C in param_grid['C']:\n",
    "        # Just extract the results from the grid search\n",
    "        idx = list(grid_search.cv_results_['param_kernel']).index(kernel)\n",
    "        idx = idx + list(grid_search.cv_results_['param_C'][idx:]).index(C)\n",
    "        \n",
    "        results.append({\n",
    "            'kernel': kernel,\n",
    "            'C': C,\n",
    "            'accuracy': grid_search.cv_results_['mean_test_score'][idx],\n",
    "            'training_time': grid_search.cv_results_['mean_fit_time'][idx]\n",
    "        })\n",
    "\n",
    "# Plot SVM performance comparison\n",
    "plt.figure(figsize=(15, 10))\n",
    "\n",
    "# Accuracy plot\n",
    "plt.subplot(2, 2, 1)\n",
    "for kernel in param_grid['kernel']:\n",
    "    kernel_results = [r for r in results if r['kernel'] == kernel]\n",
    "    kernel_results.sort(key=lambda x: x['C'])\n",
    "    plt.plot([r['C'] for r in kernel_results], \n",
    "             [r['accuracy'] for r in kernel_results], \n",
    "             'o-', label=kernel)\n",
    "\n",
    "plt.xscale('log')\n",
    "plt.xlabel('C value')\n",
    "plt.ylabel('Accuracy')\n",
    "plt.title('SVM Accuracy by Kernel and C Value')\n",
    "plt.legend()\n",
    "\n",
    "# Training time plot\n",
    "plt.subplot(2, 2, 2)\n",
    "for kernel in param_grid['kernel']:\n",
    "    kernel_results = [r for r in results if r['kernel'] == kernel]\n",
    "    kernel_results.sort(key=lambda x: x['C'])\n",
    "    plt.plot([r['C'] for r in kernel_results], \n",
    "             [r['training_time'] for r in kernel_results], \n",
    "             'o-', label=kernel)\n",
    "\n",
    "plt.xscale('log')\n",
    "plt.xlabel('C value')\n",
    "plt.ylabel('Training Time (seconds)')\n",
    "plt.title('Training Time by Kernel and C Value')\n",
    "plt.legend()\n",
    "\n",
    "plt.tight_layout()\n",
    "plt.show()\n",
    "\n",
    "# Additional visualization: Class distribution in the predictions\n",
    "plt.figure(figsize=(12, 6))\n",
    "plt.subplot(1, 2, 1)\n",
    "sns.countplot(x=y_test, palette=\"Set3\")\n",
    "plt.title(\"Actual Distribution\")\n",
    "plt.xlabel(\"Digit\")\n",
    "plt.ylabel(\"Count\")\n",
    "\n",
    "plt.subplot(1, 2, 2)\n",
    "sns.countplot(x=y_pred, palette=\"Set3\")\n",
    "plt.title(\"Predicted Distribution\")\n",
    "plt.xlabel(\"Digit\")\n",
    "plt.ylabel(\"Count\")\n",
    "\n",
    "plt.tight_layout()\n",
    "plt.show()"
   ]
  },
  {
   "cell_type": "markdown",
   "metadata": {},
   "source": [
    "Algo 2 : Random Forest (Bernice Chng)"
   ]
  },
  {
   "cell_type": "code",
   "execution_count": null,
   "metadata": {},
   "outputs": [],
   "source": [
    "import time\n",
    "from sklearn.ensemble import RandomForestClassifier\n",
    "from sklearn.model_selection import RandomizedSearchCV\n",
    "from scipy.stats import randint\n",
    "from sklearn.metrics import accuracy_score, classification_report, confusion_matrix\n",
    "\n",
    "# Define hyperparameter grid for RandomizedSearchCV\n",
    "param_dist_rf = {\n",
    "    'n_estimators': randint(50, 200),  # Number of trees\n",
    "    'max_depth': [None, 10, 20, 30],  # Allow deep trees\n",
    "    'min_samples_split': [2, 5, 10],  # Control overfitting\n",
    "    'min_samples_leaf': [1, 2, 4],  # Prevent small leaf nodes\n",
    "    'max_features': ['sqrt', 'log2', None],  # Limit number of features per split\n",
    "    'bootstrap': [True, False]  # Use bootstrap sampling\n",
    "}\n",
    "\n",
    "# Take a subset for initial testing due to computational constraints\n",
    "n_samples = 5000  # Adjust based on computational resources\n",
    "X_train_small = X_train[:n_samples]\n",
    "y_train_small = y_train[:n_samples]\n",
    "\n",
    "# Initialize Random Forest model\n",
    "rf = RandomForestClassifier(random_state=42, n_jobs=-1)\n",
    "\n",
    "# Use RandomizedSearchCV for faster hyperparameter tuning\n",
    "print(\"Finding best hyperparameters using RandomizedSearchCV for Random Forest...\")\n",
    "random_search_rf = RandomizedSearchCV(\n",
    "    rf, param_dist_rf, n_iter=20, cv=3, n_jobs=-1, verbose=1, random_state=42\n",
    ")\n",
    "\n",
    "# Start hyperparameter tuning\n",
    "start_time = time.time()\n",
    "random_search_rf.fit(X_train_small, y_train_small)\n",
    "grid_search_time_rf = time.time() - start_time\n",
    "\n",
    "# Best hyperparameters\n",
    "best_params_rf = random_search_rf.best_params_\n",
    "print(f\"Best Parameters for RF: {best_params_rf}\")\n",
    "\n",
    "# Train the best Random Forest model on the full dataset\n",
    "best_rf = RandomForestClassifier(\n",
    "    **best_params_rf, random_state=42, n_jobs=-1\n",
    ")\n",
    "\n",
    "print(\"Training the best Random Forest model on full dataset...\")\n",
    "start_time = time.time()\n",
    "best_rf.fit(X_train, y_train)\n",
    "training_time_rf = time.time() - start_time\n",
    "\n",
    "# Start time for prediction\n",
    "start_time = time.time()\n",
    "y_pred_rf = best_rf.predict(X_test)\n",
    "prediction_time_rf = time.time() - start_time\n",
    "\n",
    "# Evaluate the model\n",
    "accuracy_rf = accuracy_score(y_test, y_pred_rf)\n",
    "conf_matrix_rf = confusion_matrix(y_test, y_pred_rf)\n",
    "classification_rep_rf = classification_report(y_test, y_pred_rf, output_dict=True)\n",
    "\n",
    "# Extract precision, recall, and F1-score (weighted average)\n",
    "precision_rf = classification_rep_rf[\"weighted avg\"][\"precision\"]\n",
    "recall_rf = classification_rep_rf[\"weighted avg\"][\"recall\"]\n",
    "f1_rf = classification_rep_rf[\"weighted avg\"][\"f1-score\"]\n",
    "\n",
    "# Model complexity - Number of trees and max depth\n",
    "num_trees_rf = best_rf.n_estimators\n",
    "max_depth_rf = best_rf.max_depth\n",
    "\n",
    "# Print evaluation metrics\n",
    "print(\"\\nRandom Forest Model Evaluation:\")\n",
    "print(f\"Accuracy: {accuracy_rf * 100:.2f}%\")\n",
    "print(f\"Precision: {precision_rf * 100:.2f}%\")\n",
    "print(f\"Recall: {recall_rf * 100:.2f}%\")\n",
    "print(f\"F1-score: {f1_rf * 100:.2f}%\")\n",
    "print(f\"Training Time: {training_time_rf:.4f} seconds\")\n",
    "print(f\"Prediction Time: {prediction_time_rf:.4f} seconds\")\n",
    "print(f\"Model Complexity: {num_trees_rf} trees, Max Depth: {max_depth_rf}\")\n",
    "\n",
    "# Display classification report\n",
    "print(\"\\nDetailed Classification Report:\")\n",
    "print(classification_report(y_test, y_pred_rf))\n",
    "\n",
    "# Display confusion matrix\n",
    "plt.figure(figsize=(10, 8))\n",
    "sns.heatmap(conf_matrix_rf, annot=True, fmt=\"d\", cmap=\"Blues\", \n",
    "            xticklabels=range(10), yticklabels=range(10))\n",
    "plt.xlabel(\"Predicted\")\n",
    "plt.ylabel(\"Actual\")\n",
    "plt.title(\"Confusion Matrix for Random Forest\")\n",
    "plt.show()\n",
    "\n",
    "# Feature Importance Analysis\n",
    "importances = best_rf.feature_importances_\n",
    "indices = np.argsort(importances)[::-1]\n",
    "\n",
    "# Plot top 20 most important features (pixels)\n",
    "plt.figure(figsize=(10, 5))\n",
    "plt.title(\"Top 20 Important Pixels in MNIST Classification\")\n",
    "plt.bar(range(20), importances[indices[:20]], align=\"center\")\n",
    "plt.xlabel(\"Feature Index (Pixel)\")\n",
    "plt.ylabel(\"Importance Score\")\n",
    "plt.show()\n",
    "\n",
    "# Feature importance heatmap\n",
    "importance_grid = importances.reshape(28, 28)  # Reshape into 28x28 for MNIST\n",
    "plt.figure(figsize=(8, 6))\n",
    "sns.heatmap(importance_grid, cmap=\"coolwarm\", annot=False)\n",
    "plt.title(\"Feature Importance Heatmap (RF)\")\n",
    "plt.show()\n",
    "\n",
    "# Compare Training Time vs Accuracy\n",
    "models = ['Random Forest']\n",
    "accuracies = [accuracy_rf]\n",
    "times = [training_time_rf]\n",
    "\n",
    "plt.figure(figsize=(10, 5))\n",
    "\n",
    "# Accuracy plot\n",
    "plt.subplot(1, 2, 1)\n",
    "plt.bar(models, accuracies, color=['blue'])\n",
    "plt.ylabel(\"Accuracy\")\n",
    "plt.title(\"Random Forest Accuracy\")\n",
    "\n",
    "# Training time plot\n",
    "plt.subplot(1, 2, 2)\n",
    "plt.bar(models, times, color=['blue'])\n",
    "plt.ylabel(\"Training Time (s)\")\n",
    "plt.title(\"Random Forest Training Time\")\n",
    "\n",
    "plt.tight_layout()\n",
    "plt.show()\n",
    "\n",
    "# Additional visualization\n",
    "plt.figure(figsize=(12, 6))\n",
    "plt.subplot(1, 2, 1)\n",
    "sns.countplot(x=y_test, hue=y_test, palette=\"Set3\", legend=False)\n",
    "plt.title(\"Actual Distribution\")\n",
    "plt.xlabel(\"Digit\")\n",
    "plt.ylabel(\"Count\")\n",
    "\n",
    "plt.subplot(1, 2, 2)\n",
    "sns.countplot(x=y_pred_rf, hue=y_pred_rf, palette=\"Set3\", legend=False)\n",
    "plt.title(\"Predicted Distribution\")\n",
    "plt.xlabel(\"Digit\")\n",
    "plt.ylabel(\"Count\")\n",
    "\n",
    "plt.tight_layout()\n",
    "plt.show()\n"
   ]
  },
  {
   "cell_type": "markdown",
   "metadata": {},
   "source": [
    "Algo 3: K-Nearest Neighbors (KNN) (Carine)"
   ]
  },
  {
   "cell_type": "code",
   "execution_count": 23,
   "metadata": {},
   "outputs": [
    {
     "name": "stdout",
     "output_type": "stream",
     "text": [
      "KNN Model Accuracy: 94.61%\n",
      "Precision: 94.64%\n",
      "Recall: 94.61%\n",
      "F1-score: 94.60%\n",
      "Training Time: 0.0469 seconds\n",
      "Prediction Time: 5.7853 seconds\n",
      "Model Complexity (Number of Neighbors): 5\n"
     ]
    }
   ],
   "source": [
    "# Initialize KNN model\n",
    "knn_model = KNeighborsClassifier()\n",
    "\n",
    "# Measure training time\n",
    "start_time = time.time()\n",
    "knn_model.fit(X_train, y_train)\n",
    "training_time = time.time() - start_time\n",
    "\n",
    "# Measure prediction time\n",
    "start_time = time.time()\n",
    "y_pred = knn_model.predict(X_test)\n",
    "prediction_time = time.time() - start_time\n",
    "\n",
    "# Evaluate performance\n",
    "accuracy = accuracy_score(y_test, y_pred)\n",
    "precision = precision_score(y_test, y_pred, average='weighted')\n",
    "recall = recall_score(y_test, y_pred, average='weighted')\n",
    "f1 = f1_score(y_test, y_pred, average='weighted')\n",
    "\n",
    "# Model complexity (Number of Neighbors)\n",
    "model_complexity = knn_model.n_neighbors\n",
    "\n",
    "# Print evaluation metrics\n",
    "print(f\"KNN Model Accuracy: {accuracy * 100:.2f}%\")\n",
    "print(f\"Precision: {precision * 100:.2f}%\")\n",
    "print(f\"Recall: {recall * 100:.2f}%\")\n",
    "print(f\"F1-score: {f1 * 100:.2f}%\")\n",
    "print(f\"Training Time: {training_time:.4f} seconds\")\n",
    "print(f\"Prediction Time: {prediction_time:.4f} seconds\")\n",
    "print(f\"Model Complexity (Number of Neighbors): {model_complexity}\")"
   ]
  },
  {
   "cell_type": "code",
   "execution_count": null,
   "metadata": {},
   "outputs": [],
   "source": [
    "import time\n",
    "\n",
    "# K-Nearest Neighbors (KNN) Model with Hyperparameter Tuning\n",
    "\n",
    "# Define the parameter grid for KNN\n",
    "param_grid = {'n_neighbors': [3, 5, 7, 9, 11]}\n",
    "\n",
    "# Initialize KNN model\n",
    "knn = KNeighborsClassifier()\n",
    "\n",
    "# Use GridSearchCV to find the best hyperparameters\n",
    "grid_search = GridSearchCV(knn, param_grid, cv=5, scoring='accuracy', n_jobs=-1)\n",
    "\n",
    "# Start time for training\n",
    "start_time = time.time()\n",
    "grid_search.fit(X_train, y_train)\n",
    "training_time = time.time() - start_time\n",
    "\n",
    "# Best hyperparameters\n",
    "best_params = grid_search.best_params_\n",
    "print(f\"Best Parameters: {best_params}\")\n",
    "\n",
    "# Train the best KNN model\n",
    "best_knn = grid_search.best_estimator_\n",
    "\n",
    "# Start time for prediction\n",
    "start_time = time.time()\n",
    "y_pred = best_knn.predict(X_test)\n",
    "prediction_time = time.time() - start_time\n",
    "\n",
    "# Evaluate the model\n",
    "accuracy = accuracy_score(y_test, y_pred)\n",
    "classification_rep = classification_report(y_test, y_pred, output_dict=True)\n",
    "\n",
    "# Extracting precision, recall, and F1-score (averaged)\n",
    "precision = classification_rep[\"weighted avg\"][\"precision\"]\n",
    "recall = classification_rep[\"weighted avg\"][\"recall\"]\n",
    "f1_score = classification_rep[\"weighted avg\"][\"f1-score\"]\n",
    "\n",
    "# Model complexity: Number of neighbors\n",
    "model_complexity = best_params[\"n_neighbors\"]\n",
    "\n",
    "# Print evaluation metrics\n",
    "print(f\"KNN Model Accuracy: {accuracy * 100:.2f}%\")\n",
    "print(f\"Precision: {precision * 100:.2f}%\")\n",
    "print(f\"Recall: {recall * 100:.2f}%\")\n",
    "print(f\"F1-score: {f1_score * 100:.2f}%\")\n",
    "print(f\"Training Time: {training_time:.4f} seconds\")\n",
    "print(f\"Prediction Time: {prediction_time:.4f} seconds\")\n",
    "print(f\"Model Complexity (Number of Neighbors): {model_complexity}\")\n",
    "\n",
    "# Display classification report\n",
    "print(\"Detailed Classification Report:\")\n",
    "print(classification_report(y_test, y_pred))\n",
    "\n",
    "# Display confusion matrix\n",
    "plt.figure(figsize=(8, 6))\n",
    "sns.heatmap(confusion_matrix(y_test, y_pred), annot=True, fmt=\"d\", cmap=\"Blues\", \n",
    "            xticklabels=range(10), yticklabels=range(10))\n",
    "plt.xlabel(\"Predicted\")\n",
    "plt.ylabel(\"Actual\")\n",
    "plt.title(\"Confusion Matrix for KNN\")\n",
    "plt.show()\n",
    "\n"
   ]
  },
  {
   "cell_type": "markdown",
   "metadata": {},
   "source": [
    "Algo 4 : Logistic Regression (Andrea)"
   ]
  },
  {
   "cell_type": "code",
   "execution_count": null,
   "metadata": {},
   "outputs": [],
   "source": [
    "from sklearn.datasets import fetch_openml\n",
    "from sklearn.model_selection import train_test_split\n",
    "from sklearn.preprocessing import StandardScaler\n",
    "from sklearn.linear_model import LogisticRegression\n",
    "from sklearn.metrics import accuracy_score\n",
    "import time\n",
    "from scipy.stats import uniform, randint\n",
    "from sklearn.model_selection import RandomizedSearchCV\n",
    "\n",
    "# Define the hyperparameter for Logstic Regression\n",
    "param_grid_lr = {\n",
    "\n",
    "    'penalty': ['l2'],  # Regularization types\n",
    "    'tol': uniform(1e-5, 1e-2),   # Tolerance for optimization convergence\n",
    "    'C': uniform(0.001, 10),  # Regularization strength (inverse of regularization)\n",
    "    'fit_intercept': [True, False],  # Whether to include an intercept in the model\n",
    "    'class_weight': ['balanced', None],  # Weighting classes to handle imbalanced data\n",
    "    'solver': ['lbfgs', 'newton-cg', 'sag', 'saga' ],  # Optimization of algorithms that support multiclass\n",
    "    'max_iter': randint(100, 1000),  # Maximum number of iterations for optimization\n",
    "\n",
    "}\n",
    "\n",
    "# Initialize Logistic Regression model\n",
    "lr = LogisticRegression()\n",
    "\n",
    "# Use RandomizedSearchCV for hyperparameter\n",
    "print(\"Finding best hyperparameters using RandomizedSearchCV for Logistic Regression...\")\n",
    "random_search_lr = RandomizedSearchCV(\n",
    "    lr, param_grid_lr, n_iter=20, cv=3, n_jobs=-1, verbose=1, random_state=42\n",
    ")\n",
    "\n",
    "# Start time for fiting\n",
    "start_time = time.time()\n",
    "random_search_lr.fit(X_train, y_train)\n",
    "fitting_time_lr = time.time() - start_time\n",
    "\n",
    "\n",
    "# Best hyperparameters\n",
    "best_params_lr = random_search_lr.best_params_\n",
    "print(f\"Best Parameters for Logistic Regression: {best_params_lr}\")\n",
    "\n",
    "# Train best Logistic Regression model\n",
    "best_lr = LogisticRegression(\n",
    "    **best_params_lr, random_state=42, n_jobs=-1\n",
    ")\n",
    "\n",
    "\n",
    "# Start time for training\n",
    "start_time = time.time()\n",
    "best_lr.fit(X_train, y_train)\n",
    "training_time_lr = time.time() - start_time\n",
    "\n",
    "\n",
    "# Start time for prediction\n",
    "start_time = time.time()\n",
    "y_pred_lr = best_lr.predict(X_test)\n",
    "prediction_time_lr = time.time() - start_time\n",
    "\n",
    "# Evaluate the model\n",
    "accuracy_lr = accuracy_score(y_test, y_pred_lr)\n",
    "classification_rep_lr = classification_report(y_test, y_pred_lr, output_dict=True)\n",
    "conf_matrix_lr = confusion_matrix(y_test, y_pred_lr)\n",
    "\n",
    "# Extract precision, recall, and F1-score (weighted average)\n",
    "precision_lr = classification_rep_lr[\"weighted avg\"][\"precision\"]\n",
    "recall_lr = classification_rep_lr[\"weighted avg\"][\"recall\"]\n",
    "f1_lr = classification_rep_lr[\"weighted avg\"][\"f1-score\"]\n",
    "\n",
    "# Model complexity - Number of Features and max depth\n",
    "\n",
    "num_features = X_train.shape[1]# Number of Features\n",
    "num_non_zero_coefficients = (best_lr.coef_ != 0).sum() # Number of Non-zero Coefficients\n",
    "c_ouput = best_params_lr['C']# Regularization Strength (C)\n",
    "\n",
    "# Print evaluation metrics\n",
    "print(\"\\nRandom Forest Model Evaluation:\")\n",
    "print(f\"Accuracy: {accuracy_lr * 100:.2f}%\")\n",
    "print(f\"Precision: {precision_lr * 100:.2f}%\")\n",
    "print(f\"Recall: {recall_lr * 100:.2f}%\")\n",
    "print(f\"F1-score: {f1_lr * 100:.2f}%\")\n",
    "print(f\"Training Time: {training_time_lr:.4f} seconds\")\n",
    "print(f\"Prediction Time: {prediction_time_lr:.4f} seconds\")\n",
    "print(f\"Model Complexity:\")\n",
    "\n",
    "print(f\"\\tNumber of features in the model: {num_features}\")\n",
    "print(f\"\\tNumber of non-zero coefficients: {num_non_zero_coefficients}\")\n",
    "print(f\"\\tSelected value of C: {c_ouput}\")\n",
    "\n",
    "\n",
    "\n",
    "\n",
    "# Display classification report\n",
    "print(\"\\nDetailed Classification Report:\")\n",
    "print(classification_report(y_test, y_pred_lr))\n",
    "\n",
    "\n",
    "# Display confusion matrix\n",
    "plt.figure(figsize=(10, 8))\n",
    "sns.heatmap(conf_matrix_lr, annot=True, fmt=\"d\", cmap=\"Blues\",\n",
    "            xticklabels=range(10), yticklabels=range(10))\n",
    "plt.xlabel(\"Predicted\")\n",
    "plt.ylabel(\"Actual\")\n",
    "plt.title(\"Confusion Matrix for Logistic Regression\")\n",
    "plt.show()\n",
    "\n",
    "# Feature Importance Analysis\n",
    "# Get the absolute values of the coefficients to assess importance\n",
    "importances = np.abs(best_lr.coef_[0])  # best_lr.coef_ gives a 2D array, so we need to select the first row for multi-class classification\n",
    "\n",
    "# Get the indices of the most important features (pixels)\n",
    "indices = np.argsort(importances)[::-1]\n",
    "\n",
    "# Plot top 20 most important features (pixels)\n",
    "plt.figure(figsize=(10, 5))\n",
    "plt.title(\"Top 20 Important Pixels in MNIST Classification\")\n",
    "plt.bar(range(20), importances[indices[:20]], align=\"center\")\n",
    "plt.xlabel(\"Feature Index (Pixel)\")\n",
    "plt.ylabel(\"Importance Score\")\n",
    "plt.show()\n",
    "\n",
    "# Feature importance heatmap\n",
    "importance_grid = importances.reshape(28, 28)  # Reshape into 28x28 for MNIST\n",
    "plt.figure(figsize=(8, 6))\n",
    "sns.heatmap(importance_grid, cmap=\"coolwarm\", annot=False)\n",
    "plt.title(\"Feature Importance Heatmap (RF)\")\n",
    "plt.show()\n",
    "\n",
    "# Compare Training Time vs Accuracy\n",
    "models = ['Logstic Regression']\n",
    "accuracies = [accuracy_lr]\n",
    "times = [training_time_lr]\n",
    "\n",
    "plt.figure(figsize=(10, 5))\n",
    "\n",
    "# Accuracy plot\n",
    "plt.subplot(1, 2, 1)\n",
    "plt.bar(models, accuracies, color=['blue'])\n",
    "plt.ylabel(\"Accuracy\")\n",
    "plt.title(\"Logstic Regression Accuracy\")\n",
    "\n",
    "# Training time plot\n",
    "plt.subplot(1, 2, 2)\n",
    "plt.bar(models, times, color=['blue'])\n",
    "plt.ylabel(\"Training Time (s)\")\n",
    "plt.title(\"Logstic Regression Training Time\")\n",
    "\n",
    "plt.tight_layout()\n",
    "plt.show()\n",
    "\n",
    "# Additional visualization\n",
    "plt.figure(figsize=(12, 6))\n",
    "plt.subplot(1, 2, 1)\n",
    "sns.countplot(x=y_test, hue=y_test, palette=\"Set3\", legend=False)\n",
    "plt.title(\"Actual Distribution\")\n",
    "plt.xlabel(\"Digit\")\n",
    "plt.ylabel(\"Count\")\n",
    "\n",
    "plt.subplot(1, 2, 2)\n",
    "sns.countplot(x=y_pred_lr, hue=y_pred_lr, palette=\"Set3\", legend=False)\n",
    "plt.title(\"Predicted Distribution\")\n",
    "plt.xlabel(\"Digit\")\n",
    "plt.ylabel(\"Count\")\n",
    "\n",
    "plt.tight_layout()\n",
    "plt.show()"
   ]
  },
  {
   "cell_type": "markdown",
   "metadata": {},
   "source": [
    "Algo 5 : Decision Trees (Yin Er)"
   ]
  },
  {
   "cell_type": "code",
   "execution_count": null,
   "metadata": {},
   "outputs": [],
   "source": [
    "# Step 1: Train the Decision Tree Model\n",
    "# Initialize Decision Tree classifier with default parameters\n",
    "clf = DecisionTreeClassifier(random_state=42)\n",
    "\n",
    "# Train the classifier\n",
    "clf.fit(X_train, y_train)\n",
    "\n",
    "# Make predictions on the test set\n",
    "y_pred = clf.predict(X_test)\n",
    "\n",
    "# Step 2: Compute Accuracy\n",
    "# Calculate accuracy\n",
    "accuracy = accuracy_score(y_test, y_pred)\n",
    "print(f\"Decision Tree Accuracy: {accuracy:.4f}\")\n",
    "\n",
    "# Step 3: Display Classification Report\n",
    "# Display classification metrics\n",
    "print(\"Classification Report:\\n\", classification_report(y_test, y_pred))\n",
    "\n",
    "# Step 4: Display Confusion Matrix\n",
    "# Compute confusion matrix\n",
    "cm = confusion_matrix(y_test, y_pred)\n",
    "\n",
    "# Plot confusion matrix\n",
    "plt.figure(figsize=(8,6))\n",
    "sns.heatmap(cm, annot=True, fmt='d', cmap='Blues', xticklabels=range(10), yticklabels=range(10))\n",
    "plt.xlabel('Predicted')\n",
    "plt.ylabel('Actual')\n",
    "plt.title('Confusion Matrix - Decision Tree')\n",
    "plt.show()\n"
   ]
  },
  {
   "cell_type": "markdown",
   "metadata": {},
   "source": [
    "Your Decision Tree Classifier achieved 86.96% accuracy, which is decent but can be improved with hyperparameter tuning.\n",
    "\n",
    "Key Observations from Your Results\n",
    "Classification Report:\n",
    "\n",
    "The precision and recall values are relatively high, meaning the model performs well across different digit classes.\n",
    "Some numbers (e.g., digit 8) have slightly lower accuracy compared to others, which means the classifier struggles more with these digits.\n",
    "Confusion Matrix:\n",
    "\n",
    "Most predictions are along the diagonal, indicating correct classifications.\n",
    "However, there are some misclassifications (e.g., digit 4 is often confused with 9, digit 3 with 5).\n",
    "Reducing overfitting and improving decision boundaries can help."
   ]
  },
  {
   "cell_type": "code",
   "execution_count": null,
   "metadata": {},
   "outputs": [],
   "source": [
    "# Hyperparameter Tuning for Decision Tree\n",
    "\n",
    "from sklearn.model_selection import GridSearchCV\n",
    "\n",
    "# Define hyperparameters to tune\n",
    "param_grid = {\n",
    "    'max_depth': [10, 20, 30, None],\n",
    "    'min_samples_split': [2, 5, 10],\n",
    "    'min_samples_leaf': [1, 2, 4],\n",
    "    'criterion': ['gini', 'entropy']\n",
    "}\n",
    "\n",
    "# Perform Grid Search\n",
    "grid_search = GridSearchCV(DecisionTreeClassifier(random_state=42), param_grid, cv=3, n_jobs=-1, verbose=2)\n",
    "grid_search.fit(X_train, y_train)\n",
    "\n",
    "# Retrieve the best model\n",
    "best_clf = grid_search.best_estimator_\n",
    "print(f\"Best Parameters: {grid_search.best_params_}\")\n",
    "\n",
    "# Evaluate the optimized model\n",
    "y_pred_optimized = best_clf.predict(X_test)\n",
    "\n",
    "# Calculate accuracy\n",
    "accuracy_optimized = accuracy_score(y_test, y_pred_optimized)\n",
    "print(f\"Optimized Decision Tree Accuracy: {accuracy_optimized:.4f}\")\n",
    "\n",
    "# Display classification report\n",
    "print(\"Classification Report:\\n\", classification_report(y_test, y_pred_optimized))\n",
    "\n",
    "# Confusion matrix visualization\n",
    "cm_opt = confusion_matrix(y_test, y_pred_optimized)\n",
    "plt.figure(figsize=(8,6))\n",
    "sns.heatmap(cm_opt, annot=True, fmt='d', cmap='Blues', xticklabels=range(10), yticklabels=range(10))\n",
    "plt.xlabel('Predicted')\n",
    "plt.ylabel('Actual')\n",
    "plt.title('Confusion Matrix - Optimized Decision Tree')\n",
    "plt.show()\n"
   ]
  },
  {
   "cell_type": "markdown",
   "metadata": {},
   "source": [
    "Decision Tree accuracy improved from 86.96% to 88.09% after hyperparameter tuning! \n",
    "\n",
    "Key Improvements\n",
    "Best Parameters Found:\n",
    "\n",
    "criterion: entropy (performs better for information gain)\n",
    "max_depth: 20 (prevents overfitting)\n",
    "min_samples_leaf: 4 (ensures better generalization)\n",
    "min_samples_split: 5 (balances model complexity)\n",
    "Improved Classification Report:\n",
    "\n",
    "Precision, recall, and F1-score improved slightly across most digits.\n",
    "Digit misclassification reduced, making the model more reliable.\n",
    "Better Confusion Matrix:\n",
    "\n",
    "Misclassifications decreased, meaning fewer errors in recognizing digits.\n",
    "Some confusion still exists (e.g., 8 and 9 misclassifications), but overall performance improved."
   ]
  },
  {
   "cell_type": "markdown",
   "metadata": {},
   "source": [
    "**ALGORITHMS** (Raw Pixels with GridSearch Hyperparameter Tuning)"
   ]
  },
  {
   "cell_type": "markdown",
   "metadata": {},
   "source": [
    "Algorithm 1: Support Vector Machine (Bernice Goo)"
   ]
  },
  {
   "cell_type": "code",
   "execution_count": null,
   "metadata": {},
   "outputs": [],
   "source": []
  },
  {
   "cell_type": "markdown",
   "metadata": {},
   "source": [
    "Algorithm 2: Random Forest (Bernice Chng)"
   ]
  },
  {
   "cell_type": "code",
   "execution_count": null,
   "metadata": {},
   "outputs": [],
   "source": []
  },
  {
   "cell_type": "markdown",
   "metadata": {},
   "source": [
    "Algorithm 3: K-Nearest Neighbour (KNN) (Carine)"
   ]
  },
  {
   "cell_type": "code",
   "execution_count": 28,
   "metadata": {},
   "outputs": [
    {
     "name": "stdout",
     "output_type": "stream",
     "text": [
      "Best Parameters: {'n_neighbors': np.int64(3)}\n",
      "Best Cross-Validation Accuracy: 94.32%\n",
      "KNN Model Accuracy: 94.66%\n",
      "Precision: 94.68%\n",
      "Recall: 94.66%\n",
      "F1-score: 94.65%\n",
      "Training Time: 154.0277 seconds\n",
      "Prediction Time: 5.8263 seconds\n",
      "Model Complexity (Number of Neighbors): 3\n",
      "\n",
      "Detailed Classification Report:\n",
      "              precision    recall  f1-score   support\n",
      "\n",
      "           0       0.96      0.98      0.97      1343\n",
      "           1       0.95      0.99      0.97      1600\n",
      "           2       0.95      0.94      0.94      1380\n",
      "           3       0.93      0.95      0.94      1433\n",
      "           4       0.95      0.94      0.94      1295\n",
      "           5       0.95      0.94      0.95      1273\n",
      "           6       0.97      0.97      0.97      1396\n",
      "           7       0.94      0.93      0.93      1503\n",
      "           8       0.97      0.90      0.93      1357\n",
      "           9       0.90      0.92      0.91      1420\n",
      "\n",
      "    accuracy                           0.95     14000\n",
      "   macro avg       0.95      0.95      0.95     14000\n",
      "weighted avg       0.95      0.95      0.95     14000\n",
      "\n"
     ]
    },
    {
     "data": {
      "image/png": "[encoded data removed]",
      "text/plain": [
       "<Figure size 800x600 with 2 Axes>"
      ]
     },
     "metadata": {},
     "output_type": "display_data"
    }
   ],
   "source": [
    "# Define parameter grid for KNN (wider range for better tuning)\n",
    "param_grid = {'n_neighbors': np.arange(1, 20, 2)}\n",
    "\n",
    "# Initialize KNN model\n",
    "knn = KNeighborsClassifier()\n",
    "\n",
    "# Use GridSearchCV to find the best hyperparameters\n",
    "grid_search = GridSearchCV(knn, param_grid, cv=5, scoring='accuracy', n_jobs=-1)\n",
    "\n",
    "# Start time for training\n",
    "start_time = time.time()\n",
    "grid_search.fit(X_train, y_train)\n",
    "training_time = time.time() - start_time\n",
    "\n",
    "# Best hyperparameters\n",
    "best_params = grid_search.best_params_\n",
    "best_score = grid_search.best_score_\n",
    "print(f\"Best Parameters: {best_params}\")\n",
    "print(f\"Best Cross-Validation Accuracy: {best_score * 100:.2f}%\")\n",
    "\n",
    "# Train the best KNN model\n",
    "best_knn = grid_search.best_estimator_\n",
    "\n",
    "# Start time for prediction\n",
    "start_time = time.time()\n",
    "y_pred = best_knn.predict(X_test)\n",
    "prediction_time = time.time() - start_time\n",
    "\n",
    "# Evaluate the model\n",
    "accuracy = accuracy_score(y_test, y_pred)\n",
    "classification_rep = classification_report(y_test, y_pred, output_dict=True)\n",
    "\n",
    "# Extracting precision, recall, and F1-score (averaged)\n",
    "precision = classification_rep[\"weighted avg\"][\"precision\"]\n",
    "recall = classification_rep[\"weighted avg\"][\"recall\"]\n",
    "f1 = classification_rep[\"weighted avg\"][\"f1-score\"]\n",
    "\n",
    "# Model complexity: Number of neighbors\n",
    "model_complexity = best_params[\"n_neighbors\"]\n",
    "\n",
    "# Print evaluation metrics\n",
    "print(f\"KNN Model Accuracy: {accuracy * 100:.2f}%\")\n",
    "print(f\"Precision: {precision * 100:.2f}%\")\n",
    "print(f\"Recall: {recall * 100:.2f}%\")\n",
    "print(f\"F1-score: {f1 * 100:.2f}%\")\n",
    "print(f\"Training Time: {training_time:.4f} seconds\")\n",
    "print(f\"Prediction Time: {prediction_time:.4f} seconds\")\n",
    "print(f\"Model Complexity (Number of Neighbors): {model_complexity}\")\n",
    "\n",
    "# Display detailed classification report\n",
    "print(\"\\nDetailed Classification Report:\")\n",
    "print(classification_report(y_test, y_pred))\n",
    "\n",
    "# Display confusion matrix\n",
    "plt.figure(figsize=(8, 6))\n",
    "sns.heatmap(confusion_matrix(y_test, y_pred), annot=True, fmt=\"d\", cmap=\"Blues\", \n",
    "            xticklabels=range(10), yticklabels=range(10))\n",
    "plt.xlabel(\"Predicted\")\n",
    "plt.ylabel(\"Actual\")\n",
    "plt.title(\"Confusion Matrix for KNN\")\n",
    "plt.show()"
   ]
  },
  {
   "cell_type": "markdown",
   "metadata": {},
   "source": [
    "Algorithm 4: Logistic Regression (Andrea)"
   ]
  },
  {
   "cell_type": "code",
   "execution_count": null,
   "metadata": {},
   "outputs": [],
   "source": []
  },
  {
   "cell_type": "markdown",
   "metadata": {},
   "source": [
    "Algorithm 5: Decision Trees (Yin Er)"
   ]
  },
  {
   "cell_type": "code",
   "execution_count": null,
   "metadata": {},
   "outputs": [],
   "source": []
  },
  {
   "cell_type": "markdown",
   "metadata": {},
   "source": [
    "**ALGORITHMS** (Raw Pixels with Randomize Hyperparameter Tuning)"
   ]
  },
  {
   "cell_type": "markdown",
   "metadata": {},
   "source": [
    "Algorithm 1: Support Vector Machine (Bernice Goo)"
   ]
  },
  {
   "cell_type": "code",
   "execution_count": null,
   "metadata": {},
   "outputs": [],
   "source": []
  },
  {
   "cell_type": "markdown",
   "metadata": {},
   "source": [
    "Algorithm 2: Random Forest (Bernice Chng)"
   ]
  },
  {
   "cell_type": "code",
   "execution_count": null,
   "metadata": {},
   "outputs": [],
   "source": []
  },
  {
   "cell_type": "markdown",
   "metadata": {},
   "source": [
    "Algorithm 3: K-Nearest Neighbour (KNN) (Carine)"
   ]
  },
  {
   "cell_type": "code",
   "execution_count": 27,
   "metadata": {},
   "outputs": [
    {
     "name": "stdout",
     "output_type": "stream",
     "text": [
      "Best Parameters: {'n_neighbors': np.int64(3)}\n",
      "Best Cross-Validation Accuracy: 94.32%\n",
      "KNN Model Accuracy: 94.66%\n",
      "Precision: 94.68%\n",
      "Recall: 94.66%\n",
      "F1-score: 94.65%\n",
      "Training Time: 157.8692 seconds\n",
      "Prediction Time: 6.0370 seconds\n",
      "Model Complexity (Number of Neighbors): 3\n",
      "\n",
      "Detailed Classification Report:\n",
      "              precision    recall  f1-score   support\n",
      "\n",
      "           0       0.96      0.98      0.97      1343\n",
      "           1       0.95      0.99      0.97      1600\n",
      "           2       0.95      0.94      0.94      1380\n",
      "           3       0.93      0.95      0.94      1433\n",
      "           4       0.95      0.94      0.94      1295\n",
      "           5       0.95      0.94      0.95      1273\n",
      "           6       0.97      0.97      0.97      1396\n",
      "           7       0.94      0.93      0.93      1503\n",
      "           8       0.97      0.90      0.93      1357\n",
      "           9       0.90      0.92      0.91      1420\n",
      "\n",
      "    accuracy                           0.95     14000\n",
      "   macro avg       0.95      0.95      0.95     14000\n",
      "weighted avg       0.95      0.95      0.95     14000\n",
      "\n"
     ]
    },
    {
     "data": {
      "image/png": "[encoded data removed]",
      "text/plain": [
       "<Figure size 800x600 with 2 Axes>"
      ]
     },
     "metadata": {},
     "output_type": "display_data"
    }
   ],
   "source": [
    "# Define the hyperparameter search space for KNN\n",
    "param_dist = {'n_neighbors': np.arange(1, 50, 2)}  # Wider range for better tuning\n",
    "\n",
    "# Initialize KNN model\n",
    "knn = KNeighborsClassifier()\n",
    "\n",
    "# Use RandomizedSearchCV for faster hyperparameter tuning\n",
    "random_search = RandomizedSearchCV(knn, param_distributions=param_dist, \n",
    "                                   n_iter=10, cv=5, scoring='accuracy', \n",
    "                                   n_jobs=-1, random_state=42)\n",
    "\n",
    "# Start time for training\n",
    "start_time = time.time()\n",
    "random_search.fit(X_train, y_train)\n",
    "training_time = time.time() - start_time\n",
    "\n",
    "# Best hyperparameters\n",
    "best_params = random_search.best_params_\n",
    "best_score = random_search.best_score_\n",
    "print(f\"Best Parameters: {best_params}\")\n",
    "print(f\"Best Cross-Validation Accuracy: {best_score * 100:.2f}%\")\n",
    "\n",
    "# Train the best KNN model\n",
    "best_knn = random_search.best_estimator_\n",
    "\n",
    "# Start time for prediction\n",
    "start_time = time.time()\n",
    "y_pred = best_knn.predict(X_test)\n",
    "prediction_time = time.time() - start_time\n",
    "\n",
    "# Evaluate the model\n",
    "accuracy = accuracy_score(y_test, y_pred)\n",
    "classification_rep = classification_report(y_test, y_pred, output_dict=True)\n",
    "\n",
    "# Extract precision, recall, and F1-score (weighted)\n",
    "precision = classification_rep[\"weighted avg\"][\"precision\"]\n",
    "recall = classification_rep[\"weighted avg\"][\"recall\"]\n",
    "f1 = classification_rep[\"weighted avg\"][\"f1-score\"]\n",
    "\n",
    "# Model complexity: Number of neighbors\n",
    "model_complexity = best_params[\"n_neighbors\"]\n",
    "\n",
    "# Print evaluation metrics\n",
    "print(f\"KNN Model Accuracy: {accuracy * 100:.2f}%\")\n",
    "print(f\"Precision: {precision * 100:.2f}%\")\n",
    "print(f\"Recall: {recall * 100:.2f}%\")\n",
    "print(f\"F1-score: {f1 * 100:.2f}%\")\n",
    "print(f\"Training Time: {training_time:.4f} seconds\")\n",
    "print(f\"Prediction Time: {prediction_time:.4f} seconds\")\n",
    "print(f\"Model Complexity (Number of Neighbors): {model_complexity}\")\n",
    "\n",
    "# Display classification report\n",
    "print(\"\\nDetailed Classification Report:\")\n",
    "print(classification_report(y_test, y_pred))\n",
    "\n",
    "# Display confusion matrix\n",
    "plt.figure(figsize=(8, 6))\n",
    "sns.heatmap(confusion_matrix(y_test, y_pred), annot=True, fmt=\"d\", cmap=\"Blues\", \n",
    "            xticklabels=range(10), yticklabels=range(10))\n",
    "plt.xlabel(\"Predicted\")\n",
    "plt.ylabel(\"Actual\")\n",
    "plt.title(\"Confusion Matrix for KNN (Randomized Search)\")\n",
    "plt.show()"
   ]
  },
  {
   "cell_type": "markdown",
   "metadata": {},
   "source": [
    "Algorithm 4: Logistic Regression (Andrea)"
   ]
  },
  {
   "cell_type": "code",
   "execution_count": null,
   "metadata": {},
   "outputs": [],
   "source": []
  },
  {
   "cell_type": "markdown",
   "metadata": {},
   "source": [
    "Algorithm 5: Decision Trees (Yin Er)"
   ]
  },
  {
   "cell_type": "code",
   "execution_count": null,
   "metadata": {},
   "outputs": [],
   "source": []
  },
  {
   "cell_type": "markdown",
   "metadata": {},
   "source": [
    "**ALGORITHMS** (Selected Best Feature without Hyperparameter Tuning)"
   ]
  },
  {
   "cell_type": "markdown",
   "metadata": {},
   "source": [
    "Algorithm 1: Support Vector Machine (Bernice Goo)"
   ]
  },
  {
   "cell_type": "code",
   "execution_count": null,
   "metadata": {},
   "outputs": [],
   "source": []
  },
  {
   "cell_type": "markdown",
   "metadata": {},
   "source": [
    "Algorithm 2: Random Forest (Bernice Chng)"
   ]
  },
  {
   "cell_type": "code",
   "execution_count": null,
   "metadata": {},
   "outputs": [],
   "source": []
  },
  {
   "cell_type": "markdown",
   "metadata": {},
   "source": [
    "Algorithm 3: K-Nearest Neighbour (KNN) (Carine)"
   ]
  },
  {
   "cell_type": "code",
   "execution_count": null,
   "metadata": {},
   "outputs": [],
   "source": []
  },
  {
   "cell_type": "markdown",
   "metadata": {},
   "source": [
    "Algorithm 4: Logistic Regression (Andrea)"
   ]
  },
  {
   "cell_type": "code",
   "execution_count": null,
   "metadata": {},
   "outputs": [],
   "source": []
  },
  {
   "cell_type": "markdown",
   "metadata": {},
   "source": [
    "Algorithm 5: Decision Trees (Yin Er)"
   ]
  },
  {
   "cell_type": "code",
   "execution_count": null,
   "metadata": {},
   "outputs": [],
   "source": []
  },
  {
   "cell_type": "markdown",
   "metadata": {},
   "source": [
    "**COMPARISONS WITH ALGO**\n",
    "- Accuracy\n",
    "- Precision\n",
    "- Recall\n",
    "- F1-score\n",
    "- Computation time\n",
    "- Model complexity"
   ]
  },
  {
   "cell_type": "code",
   "execution_count": null,
   "metadata": {},
   "outputs": [],
   "source": []
  }
 ],
 "metadata": {
  "kernelspec": {
   "display_name": ".venv",
   "language": "python",
   "name": "python3"
  },
  "language_info": {
   "codemirror_mode": {
    "name": "ipython",
    "version": 3
   },
   "file_extension": ".py",
   "mimetype": "text/x-python",
   "name": "python",
   "nbconvert_exporter": "python",
   "pygments_lexer": "ipython3",
   "version": "3.13.2"
  }
 },
 "nbformat": 4,
 "nbformat_minor": 2
}
